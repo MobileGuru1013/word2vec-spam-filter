{
 "cells": [
  {
   "cell_type": "code",
   "execution_count": 142,
   "metadata": {},
   "outputs": [],
   "source": [
    "import requests\n",
    "BASE_URL = 'http://localhost:5000'\n",
    "\n",
    "def report(msg):\n",
    "    requests.post(BASE_URL + '/spam/report',\n",
    "             json={'message': msg}\n",
    "            ).ok\n",
    "\n",
    "def is_spam(vector):\n",
    "    data = requests.get(BASE_URL + '/spam/detect',\n",
    "                        params={'vector': ','.join(str(v) for v in vector)}\n",
    "            ).json()\n",
    "    return data['spam'], data['confidence']\n",
    "\n",
    "def get_word_vectors(indexes):\n",
    "    data = requests.get(BASE_URL + '/words/vector',\n",
    "                        params={'ids': ','.join(str(i) for i in indexes)}).json()\n",
    "    return {int(k): v['vector'] for k,v in data['words'].items()}\n",
    "\n",
    "def get_word_indexes():\n",
    "    \"\"\"return a dict of word to index.\"\"\"\n",
    "    content = requests.get(BASE_URL + '/words/list').content\n",
    "    return {word: i for i, word in enumerate(content.split('\\n'))}"
   ]
  },
  {
   "cell_type": "code",
   "execution_count": 143,
   "metadata": {},
   "outputs": [],
   "source": [
    "WORD_INDEXES = get_word_indexes()\n",
    "\n",
    "\n",
    "def calc_message(message):\n",
    "    import random\n",
    "    import numpy as np\n",
    "    \n",
    "    message = message.lower()\n",
    "    \n",
    "    indexes = [WORD_INDEXES[word] \n",
    "               for word in message.split(' ')\n",
    "               if word in WORD_INDEXES]\n",
    "    fakes = [random.randint(0, len(WORD_INDEXES)) for _ in range(20)]\n",
    "    \n",
    "    shuffled = indexes + fakes\n",
    "    random.shuffle(shuffled)\n",
    "    vectors = get_word_vectors(shuffled)\n",
    "    \n",
    "    vec_sum = sum(np.array(vectors[i]) for i in indexes).tolist()\n",
    "\n",
    "    return vec_sum"
   ]
  },
  {
   "cell_type": "code",
   "execution_count": 144,
   "metadata": {},
   "outputs": [],
   "source": [
    "def is_spam_message(msg):\n",
    "    return is_spam(calc_message(msg))"
   ]
  },
  {
   "cell_type": "code",
   "execution_count": 145,
   "metadata": {},
   "outputs": [],
   "source": [
    "spams = [\n",
    "    'Hi are you looking for a sexy cool woman to spend time ,with well I,m lookin for a gentleman who still khowns how to treat a lady, I am here to u.http . G.lovendate.pw code: 605',\n",
    "    'I offer you an exchange, you free register on my site http:\\/\\/rachelmel.pro\\nConfirmation email and show me the screenshot. \\nAfter that I\\'ll send you my nude pics',\n",
    "    '''Hi, do I know u? you just showed up in my kik hmm.. my friends warned me that there are many fake accounts and bots here, no offense, are u a real person? If you are a real person, you won't have any trouble liking my pic, will you;)? the one where I'm wearing a white swimming suit. This way I'll be convinced that you are real''',\n",
    "    '''This is the first time I will be playing naked on a webcam. Come see my naked body. Reg here, plz:* http:\\/\\/u.to\\/VgdTEA It is completely free'''\n",
    "    '''go here, click the create private account.. you might have to create a username before you can see me live''',\n",
    "]\n",
    "\n",
    "good = [\n",
    "    'Hi I am your mother and I love you',\n",
    "    'Did you watch the movie last night?',\n",
    "    'Whats up with all the weird clouds?',\n",
    "]"
   ]
  },
  {
   "cell_type": "code",
   "execution_count": 146,
   "metadata": {},
   "outputs": [],
   "source": [
    "# register spam messages\n",
    "for msg in spams:\n",
    "    for i in range(4):\n",
    "        report(msg)"
   ]
  },
  {
   "cell_type": "code",
   "execution_count": 115,
   "metadata": {},
   "outputs": [
    {
     "data": {
      "text/plain": [
       "(False, 0.8641516840020381)"
      ]
     },
     "execution_count": 115,
     "metadata": {},
     "output_type": "execute_result"
    }
   ],
   "source": [
    "is_spam_message(good[2])"
   ]
  },
  {
   "cell_type": "code",
   "execution_count": 117,
   "metadata": {},
   "outputs": [
    {
     "data": {
      "text/plain": [
       "(True, 1.0)"
      ]
     },
     "execution_count": 117,
     "metadata": {},
     "output_type": "execute_result"
    }
   ],
   "source": [
    "is_spam_message(spams[1])"
   ]
  },
  {
   "cell_type": "code",
   "execution_count": 129,
   "metadata": {},
   "outputs": [
    {
     "data": {
      "text/plain": [
       "(False, 0.6815927618764492)"
      ]
     },
     "execution_count": 129,
     "metadata": {},
     "output_type": "execute_result"
    }
   ],
   "source": [
    "is_spam_message('Hey Doody What is up?')"
   ]
  },
  {
   "cell_type": "code",
   "execution_count": 141,
   "metadata": {},
   "outputs": [
    {
     "name": "stdout",
     "output_type": "stream",
     "text": [
      "['Hi', 'do', 'I', 'know', 'u', 'you', 'just', 'showed', 'up', 'in', 'my', 'kik', 'hmm', 'my', 'friends', 'warned', 'me', 'that', 'there', 'are', 'many', 'fake', 'accounts', 'and', 'bots', 'here', 'no', 'offense', 'are', 'u', 'a', 'real', 'person', 'If', 'you', 'are', 'a', 'real', 'person', 'you', \"won't\", 'have', 'any', 'trouble', 'liking', 'my', 'pic', 'will', 'you', 'the', 'one', 'where', \"I'm\", 'wearing', 'a', 'white', 'swimming', 'suit', 'This', 'way', \"I'll\", 'be', 'convinced', 'that', 'you', 'are', 'real']\n"
     ]
    }
   ],
   "source": [
    ">>> import re\n",
    ">>> string = spams[2]\n",
    ">>> pattern = re.compile(\"^\\s+|\\s*[, \\.\\?;\\(\\)]\\s*|\\s+$\")\n",
    ">>> print([x for x in pattern.split(string) if x])"
   ]
  },
  {
   "cell_type": "code",
   "execution_count": null,
   "metadata": {},
   "outputs": [],
   "source": []
  }
 ],
 "metadata": {
  "kernelspec": {
   "display_name": "Python 2",
   "language": "python",
   "name": "python2"
  },
  "language_info": {
   "codemirror_mode": {
    "name": "ipython",
    "version": 2
   },
   "file_extension": ".py",
   "mimetype": "text/x-python",
   "name": "python",
   "nbconvert_exporter": "python",
   "pygments_lexer": "ipython2",
   "version": "2.7.14"
  }
 },
 "nbformat": 4,
 "nbformat_minor": 2
}
